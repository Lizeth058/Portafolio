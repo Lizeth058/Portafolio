{
  "nbformat": 4,
  "nbformat_minor": 0,
  "metadata": {
    "colab": {
      "provenance": [],
      "include_colab_link": true
    },
    "kernelspec": {
      "name": "python3",
      "display_name": "Python 3"
    },
    "language_info": {
      "name": "python"
    }
  },
  "cells": [
    {
      "cell_type": "markdown",
      "metadata": {
        "id": "view-in-github",
        "colab_type": "text"
      },
      "source": [
        "<a href=\"https://colab.research.google.com/github/Lizeth058/Portafolio/blob/main/NLP/NGramTwitter.ipynb\" target=\"_parent\"><img src=\"https://colab.research.google.com/assets/colab-badge.svg\" alt=\"Open In Colab\"/></a>"
      ]
    },
    {
      "cell_type": "code",
      "execution_count": null,
      "metadata": {
        "id": "xg33Bo5Trkfx"
      },
      "outputs": [],
      "source": [
        "import pandas as pd\n",
        "import re # Regulary expression\n",
        "from nltk.corpus import stopwords\n",
        "from nltk.tokenize import word_tokenize\n",
        "from nltk.util import ngrams\n",
        "from collections import Counter\n",
        "import matplotlib.pyplot as plt"
      ]
    },
    {
      "cell_type": "markdown",
      "source": [
        "# Paso 1. Cargar Datos"
      ],
      "metadata": {
        "id": "ECr2rP_wtXj-"
      }
    },
    {
      "cell_type": "code",
      "source": [
        "from google.colab import drive # Conectanonos con google drive\n",
        "drive.mount('/content/drive')\n",
        "import os    # la librería necesaria para la ruta de la carpeta\n",
        "os.chdir('/content/drive/MyDrive/Colab Notebooks/bootcamp IA/DataSET')\n",
        "#mostar lista de archivos\n",
        "os.listdir()"
      ],
      "metadata": {
        "colab": {
          "base_uri": "https://localhost:8080/"
        },
        "id": "DS_0phvGUKeE",
        "outputId": "3c68d81e-59ea-4c7e-d6a1-7a9df349f844"
      },
      "execution_count": null,
      "outputs": [
        {
          "output_type": "stream",
          "name": "stdout",
          "text": [
            "Drive already mounted at /content/drive; to attempt to forcibly remount, call drive.mount(\"/content/drive\", force_remount=True).\n"
          ]
        },
        {
          "output_type": "execute_result",
          "data": {
            "text/plain": [
              "['S2_C2_RDG_Marketing_target_income.ipynb',\n",
              " 'generated_classification_data_V1.csv',\n",
              " 'Mall_Customers.csv',\n",
              " 'Police-Crime.csv',\n",
              " 'marketing_extract_2X_Income.xlsx',\n",
              " 'amazon_reviews.csv',\n",
              " 'twitter.csv']"
            ]
          },
          "metadata": {},
          "execution_count": 39
        }
      ]
    },
    {
      "cell_type": "code",
      "source": [
        "# Cargar datos\n",
        "data = pd.read_csv('twitter.csv')\n",
        "#data = pd.read_csv('amazon_reviews.csv')\n",
        "# Mostrar primeras filas\n",
        "print(data.head())\n",
        "\n",
        "#lebel 0 = positive\n",
        "#lebel 1 = negative"
      ],
      "metadata": {
        "id": "wigXDxxxtOm_",
        "colab": {
          "base_uri": "https://localhost:8080/"
        },
        "outputId": "596bb2ff-b7a1-4e9f-f9c4-6b317752d731"
      },
      "execution_count": null,
      "outputs": [
        {
          "output_type": "stream",
          "name": "stdout",
          "text": [
            "   id  label                                              tweet\n",
            "0   1      0   @user when a father is dysfunctional and is s...\n",
            "1   2      0  @user @user thanks for #lyft credit i can't us...\n",
            "2   3      0                                bihday your majesty\n",
            "3   4      0  #model   i love u take with u all the time in ...\n",
            "4   5      0             factsguide: society now    #motivation\n"
          ]
        }
      ]
    },
    {
      "cell_type": "markdown",
      "source": [
        "lebel 0 = positive\n",
        "lebel 1 = negative\n",
        "\n",
        "¿Cual es"
      ],
      "metadata": {
        "id": "A0dIPDhwWpff"
      }
    },
    {
      "cell_type": "code",
      "source": [
        "data.info()"
      ],
      "metadata": {
        "colab": {
          "base_uri": "https://localhost:8080/"
        },
        "id": "3dBa8GCwVj8W",
        "outputId": "c95301e9-1bcb-4996-ed22-e8da911f2cbf"
      },
      "execution_count": null,
      "outputs": [
        {
          "output_type": "stream",
          "name": "stdout",
          "text": [
            "<class 'pandas.core.frame.DataFrame'>\n",
            "RangeIndex: 31962 entries, 0 to 31961\n",
            "Data columns (total 3 columns):\n",
            " #   Column  Non-Null Count  Dtype \n",
            "---  ------  --------------  ----- \n",
            " 0   id      31962 non-null  int64 \n",
            " 1   label   31962 non-null  int64 \n",
            " 2   tweet   31962 non-null  object\n",
            "dtypes: int64(2), object(1)\n",
            "memory usage: 749.2+ KB\n"
          ]
        }
      ]
    },
    {
      "cell_type": "code",
      "source": [
        "\n",
        "# Contar valores de la columna 'label'\n",
        "print(data['label'].value_counts())\n",
        "\n"
      ],
      "metadata": {
        "colab": {
          "base_uri": "https://localhost:8080/"
        },
        "id": "1WROxGQgWmOm",
        "outputId": "507deedc-06f4-44dc-d2e0-830d1ba1d671"
      },
      "execution_count": null,
      "outputs": [
        {
          "output_type": "stream",
          "name": "stdout",
          "text": [
            "label\n",
            "0    29720\n",
            "1     2242\n",
            "Name: count, dtype: int64\n"
          ]
        }
      ]
    },
    {
      "cell_type": "code",
      "source": [
        "# Limpiar texto\n",
        "def clean_text(text):\n",
        "      text = re.sub(r'@[A-Za-z0-9_]+','',text) # Eliminar menciones\n",
        "      text = re.sub(r'http\\S+','',text) # Eliminar URLs\n",
        "      text = re.sub(r'www\\S+','',text)\n",
        "      text = re.sub(r'#','',text)       # Eliminar hashtags\n",
        "      text = re.sub(r\"[^A-Za-z \\s']\",'',text) # Eliminar caracteres especiales\n",
        "      text = text.lower().strip()            # Convertir a minúsculas\n",
        "      return text\n",
        "\n",
        "data['clean_tweet'] = data['tweet'].apply(clean_text)\n",
        "\n"
      ],
      "metadata": {
        "id": "R9nSQcr0tSX_"
      },
      "execution_count": null,
      "outputs": []
    },
    {
      "cell_type": "code",
      "source": [
        "print(data['clean_tweet'].head(3))"
      ],
      "metadata": {
        "colab": {
          "base_uri": "https://localhost:8080/"
        },
        "id": "WGNjHnn5gUlS",
        "outputId": "ae351aa8-411a-485b-aa2c-fb45970caf15"
      },
      "execution_count": null,
      "outputs": [
        {
          "output_type": "stream",
          "name": "stdout",
          "text": [
            "0    when a father is dysfunctional and is so selfi...\n",
            "1    thanks for lyft credit i can't use cause they ...\n",
            "2                                  bihday your majesty\n",
            "Name: clean_tweet, dtype: object\n"
          ]
        }
      ]
    },
    {
      "cell_type": "markdown",
      "source": [
        "# Paso 2. Tokenizacion y elminicación de stop words"
      ],
      "metadata": {
        "id": "t1Ag7pt8tb1W"
      }
    },
    {
      "cell_type": "code",
      "source": [
        "import nltk\n",
        "nltk.download('punkt_tab')\n",
        "nltk.download('punkt')\n",
        "nltk.download('stopwords')\n"
      ],
      "metadata": {
        "id": "KC1jOckwtQ7m",
        "colab": {
          "base_uri": "https://localhost:8080/"
        },
        "outputId": "2aa52281-ed6d-4daa-9419-602077814824"
      },
      "execution_count": null,
      "outputs": [
        {
          "output_type": "stream",
          "name": "stderr",
          "text": [
            "[nltk_data] Downloading package punkt_tab to /root/nltk_data...\n",
            "[nltk_data]   Unzipping tokenizers/punkt_tab.zip.\n",
            "[nltk_data] Downloading package punkt to /root/nltk_data...\n",
            "[nltk_data]   Unzipping tokenizers/punkt.zip.\n",
            "[nltk_data] Downloading package stopwords to /root/nltk_data...\n",
            "[nltk_data]   Unzipping corpora/stopwords.zip.\n"
          ]
        },
        {
          "output_type": "execute_result",
          "data": {
            "text/plain": [
              "True"
            ]
          },
          "metadata": {},
          "execution_count": 45
        }
      ]
    },
    {
      "cell_type": "code",
      "source": [
        "# Cargar las stopwoerd en ingles\n",
        "stopWords = set(stopwords.words('english'))\n",
        "\n",
        "#tokens\n",
        "\n",
        "def tokenize_text(text):\n",
        "    tokens = word_tokenize(text)\n",
        "    tokens = [word for word in tokens if word not in stopWords]\n",
        "    return tokens\n",
        "\n",
        "data['tokens'] = data['clean_tweet'].apply(tokenize_text)\n",
        "print(data['tokens'].head(20))"
      ],
      "metadata": {
        "colab": {
          "base_uri": "https://localhost:8080/"
        },
        "id": "jINFPqk0hGWj",
        "outputId": "e2dbe2b5-3559-4f2e-87e7-98ac2cb169ae"
      },
      "execution_count": null,
      "outputs": [
        {
          "output_type": "stream",
          "name": "stdout",
          "text": [
            "0     [father, dysfunctional, selfish, drags, kids, ...\n",
            "1     [thanks, lyft, credit, ca, n't, use, cause, n'...\n",
            "2                                     [bihday, majesty]\n",
            "3                   [model, love, u, take, u, time, ur]\n",
            "4                     [factsguide, society, motivation]\n",
            "5     [huge, fan, fare, big, talking, leave, chaos, ...\n",
            "6                            [camping, tomorrow, danny]\n",
            "7     [next, school, year, year, exams, ca, n't, thi...\n",
            "8     [love, land, allin, cavs, champions, cleveland...\n",
            "9                                 [welcome, 'm, 's, gr]\n",
            "10    [ireland, consumer, price, index, mom, climbed...\n",
            "11    [selfish, orlando, standwithorlando, pulseshoo...\n",
            "12           [get, see, daddy, today, days, gettingfed]\n",
            "13    [cnn, calls, michigan, middle, school, 'build,...\n",
            "14    [comment, australia, opkillingbay, seashepherd...\n",
            "15         [ouchjunior, angrygot, junior, yugyoem, omg]\n",
            "16                [thankful, paner, thankful, positive]\n",
            "17                                     [retweet, agree]\n",
            "18    [friday, smiles, around, via, ig, user, cookie...\n",
            "19             [know, essential, oils, made, chemicals]\n",
            "Name: tokens, dtype: object\n"
          ]
        }
      ]
    },
    {
      "cell_type": "code",
      "source": [
        "print(data['clean_tweet'].head(10))"
      ],
      "metadata": {
        "colab": {
          "base_uri": "https://localhost:8080/"
        },
        "id": "V1wB8cIWibeP",
        "outputId": "35632bc1-3a29-461c-8180-66a5c21422e3"
      },
      "execution_count": null,
      "outputs": [
        {
          "output_type": "stream",
          "name": "stdout",
          "text": [
            "0    when a father is dysfunctional and is so selfi...\n",
            "1    thanks for lyft credit i can't use cause they ...\n",
            "2                                  bihday your majesty\n",
            "3      model   i love u take with u all the time in ur\n",
            "4                 factsguide society now    motivation\n",
            "5    huge fan fare and big talking before they leav...\n",
            "6                        camping tomorrow        danny\n",
            "7    the next school year is the year for exams can...\n",
            "8    we won love the land allin cavs champions clev...\n",
            "9                      welcome here   i'm   it's so gr\n",
            "Name: clean_tweet, dtype: object\n"
          ]
        }
      ]
    },
    {
      "cell_type": "markdown",
      "source": [
        "# Paso 3. N-gram"
      ],
      "metadata": {
        "id": "nWa-zYPCt2Gt"
      }
    },
    {
      "cell_type": "code",
      "source": [
        "# Crear N-grams y contar su frecuencia\n",
        "# data ['tokens'] = es el conjunto de tokens\n",
        "# tokens => [welcome 'm,'s,gr8]\n",
        "# token\n",
        "all_words = [token for tokens in data['tokens'] for token in tokens]\n",
        "\n",
        "\n",
        "fdist = nltk.FreqDist(all_words)\n",
        "fdist.most_common(10)"
      ],
      "metadata": {
        "id": "RT3Gg6Wpt4bW",
        "colab": {
          "base_uri": "https://localhost:8080/"
        },
        "outputId": "90852157-32f9-4f55-aa36-a07e62d0445e"
      },
      "execution_count": null,
      "outputs": [
        {
          "output_type": "execute_result",
          "data": {
            "text/plain": [
              "[(\"'s\", 3221),\n",
              " ('love', 2727),\n",
              " ('day', 2291),\n",
              " (\"n't\", 2228),\n",
              " ('happy', 1682),\n",
              " ('amp', 1608),\n",
              " ('u', 1155),\n",
              " ('life', 1141),\n",
              " ('time', 1126),\n",
              " ('today', 1070)]"
            ]
          },
          "metadata": {},
          "execution_count": 63
        }
      ]
    },
    {
      "cell_type": "code",
      "source": [
        "unigrams = ngrams(all_words, 1)\n",
        "bigrams = ngrams(all_words, 2)\n",
        "trigrams = ngrams(all_words, 3)"
      ],
      "metadata": {
        "id": "z7Rzti0_t8Te"
      },
      "execution_count": null,
      "outputs": []
    },
    {
      "cell_type": "code",
      "source": [],
      "metadata": {
        "id": "ko7Mj_k6snFy"
      },
      "execution_count": null,
      "outputs": []
    },
    {
      "cell_type": "code",
      "source": [
        "Counter(bigrams).most_common(10)"
      ],
      "metadata": {
        "colab": {
          "base_uri": "https://localhost:8080/"
        },
        "id": "nxa3CzYyqmtT",
        "outputId": "541a9972-bcdc-4442-ec4d-a6a5b96fd038"
      },
      "execution_count": null,
      "outputs": [
        {
          "output_type": "execute_result",
          "data": {
            "text/plain": [
              "[]"
            ]
          },
          "metadata": {},
          "execution_count": 80
        }
      ]
    },
    {
      "cell_type": "code",
      "source": [
        "fdist_unig= nltk.FreqDist(unigrams)\n",
        "fdist.most_common(10)"
      ],
      "metadata": {
        "id": "LotCTobguZ1n",
        "colab": {
          "base_uri": "https://localhost:8080/"
        },
        "outputId": "55c8cb11-0530-476b-c866-2121d5210164"
      },
      "execution_count": null,
      "outputs": [
        {
          "output_type": "execute_result",
          "data": {
            "text/plain": [
              "[(('ca', \"n't\"), 737),\n",
              " ((\"'s\", 'day'), 429),\n",
              " (('father', \"'s\"), 419),\n",
              " (('thankful', 'positive'), 404),\n",
              " (('positive', 'affirmation'), 352),\n",
              " (('love', 'u'), 347),\n",
              " (('u', 'take'), 327),\n",
              " (('take', 'u'), 326),\n",
              " (('u', 'time'), 326),\n",
              " (('model', 'love'), 325)]"
            ]
          },
          "metadata": {},
          "execution_count": 83
        }
      ]
    },
    {
      "cell_type": "code",
      "source": [
        "fdist_big= nltk.FreqDist(bigrams)\n",
        "fdist.most_common(10)"
      ],
      "metadata": {
        "colab": {
          "base_uri": "https://localhost:8080/"
        },
        "id": "S0D4nZxyrrGp",
        "outputId": "ee320254-5eba-4217-be04-f906af5bfb99"
      },
      "execution_count": null,
      "outputs": [
        {
          "output_type": "execute_result",
          "data": {
            "text/plain": [
              "[(('ca', \"n't\"), 737),\n",
              " ((\"'s\", 'day'), 429),\n",
              " (('father', \"'s\"), 419),\n",
              " (('thankful', 'positive'), 404),\n",
              " (('positive', 'affirmation'), 352),\n",
              " (('love', 'u'), 347),\n",
              " (('u', 'take'), 327),\n",
              " (('take', 'u'), 326),\n",
              " (('u', 'time'), 326),\n",
              " (('model', 'love'), 325)]"
            ]
          },
          "metadata": {},
          "execution_count": 75
        }
      ]
    },
    {
      "cell_type": "code",
      "source": [
        "fdist_trig= nltk.FreqDist(trigrams)\n",
        "fdist.most_common(10)"
      ],
      "metadata": {
        "colab": {
          "base_uri": "https://localhost:8080/"
        },
        "id": "w4WhFkqLr2zj",
        "outputId": "2351b7e3-e828-48d7-ff7e-0a43c1fc61d3"
      },
      "execution_count": null,
      "outputs": [
        {
          "output_type": "execute_result",
          "data": {
            "text/plain": [
              "[(('ca', \"n't\"), 737),\n",
              " ((\"'s\", 'day'), 429),\n",
              " (('father', \"'s\"), 419),\n",
              " (('thankful', 'positive'), 404),\n",
              " (('positive', 'affirmation'), 352),\n",
              " (('love', 'u'), 347),\n",
              " (('u', 'take'), 327),\n",
              " (('take', 'u'), 326),\n",
              " (('u', 'time'), 326),\n",
              " (('model', 'love'), 325)]"
            ]
          },
          "metadata": {},
          "execution_count": 77
        }
      ]
    },
    {
      "cell_type": "markdown",
      "source": [
        "\n",
        "\n",
        "```\n",
        "# This is formatted as code\n",
        "```\n",
        "\n",
        "# Paso 4. Colocación (Collocations)"
      ],
      "metadata": {
        "id": "eiQWwOxVuIQm"
      }
    },
    {
      "cell_type": "markdown",
      "source": [
        "¿ Cómo eliminamos los términos irrelevantes?"
      ],
      "metadata": {
        "id": "gjxDMkTKvih-"
      }
    },
    {
      "cell_type": "code",
      "source": [
        "from nltk.collocations import BigramAssocMeasures, BigramCollocationFinder\n",
        "\n",
        "# Encontrar bigramas significativos\n",
        "bigram_measures = BigramAssocMeasures()\n",
        "finder = BigramCollocationFinder.from_words(all_words)\n",
        "finder.apply_freq_filter(5)  # Filtrar bigramas que aparecen menos de 5 veces\n",
        "\n",
        "# Obtener los 10 bigramas más comunes según la medida de asociación\n",
        "top_10_bigrams = finder.nbest(bigram_measures.pmi, 10)\n",
        "print(top_10_bigrams)\n",
        "\n",
        "# Eliminación de términos irrelevantes se hace mediante la eliminación de stop words y caracteres especiales.\n"
      ],
      "metadata": {
        "colab": {
          "base_uri": "https://localhost:8080/"
        },
        "id": "2pokb4Qu8whq",
        "outputId": "519175c4-43a0-43c8-bb63-ae6b58e5798f"
      },
      "execution_count": null,
      "outputs": [
        {
          "output_type": "stream",
          "name": "stdout",
          "text": [
            "[('grins', 'pearly'), ('kh', 'kharkivgram'), ('kharkiv', 'kh'), ('kharkivgram', 'ukraineblog'), ('oitnbchat', 'bingewatching'), ('palestinian', 'semitic'), ('recognizing', 'expressing'), ('riclswtravelbook', 'bearlovestravel'), ('yrold', 'hindu'), ('landholding', 'males')]\n"
          ]
        }
      ]
    },
    {
      "cell_type": "code",
      "source": [],
      "metadata": {
        "id": "nhQLZ80O85az"
      },
      "execution_count": null,
      "outputs": []
    }
  ]
}